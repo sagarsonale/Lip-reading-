{
 "cells": [
  {
   "cell_type": "code",
   "execution_count": 1,
   "id": "e1f11506-e01f-4620-b7ef-e4eb0c5763c1",
   "metadata": {},
   "outputs": [],
   "source": [
    "import os\n",
    "import cv2\n",
    "import tensorflow as tf\n",
    "import numpy as np\n",
    "from typing import List\n",
    "from matplotlib import pyplot as plt\n",
    "import imageio"
   ]
  },
  {
   "cell_type": "code",
   "execution_count": 2,
   "id": "56c30cbe-a2b3-4a73-b022-21626bf6ef14",
   "metadata": {},
   "outputs": [
    {
     "data": {
      "text/plain": [
       "[]"
      ]
     },
     "execution_count": 2,
     "metadata": {},
     "output_type": "execute_result"
    }
   ],
   "source": [
    "tf.config.list_physical_devices('GPU')"
   ]
  },
  {
   "cell_type": "code",
   "execution_count": 3,
   "id": "44980f41-3ef1-4d2b-8cbf-ae5510b2c942",
   "metadata": {},
   "outputs": [],
   "source": [
    "physical_devices = tf.config.list_physical_devices('GPU')\n",
    "try:\n",
    "    tf.config.experimental.set_memory_growth(physical_devices[0], True)\n",
    "except:\n",
    "    pass"
   ]
  },
  {
   "cell_type": "code",
   "execution_count": 4,
   "id": "7d335f55-6295-47f3-8436-83486aba4425",
   "metadata": {},
   "outputs": [],
   "source": [
    "def load_video(path:str) -> List[float]: \n",
    "\n",
    "    cap = cv2.VideoCapture(path)\n",
    "    frames = []\n",
    "    for _ in range(int(cap.get(cv2.CAP_PROP_FRAME_COUNT))): \n",
    "        ret, frame = cap.read()\n",
    "        frame = tf.image.rgb_to_grayscale(frame)\n",
    "        frames.append(frame[190:236,80:220,:])\n",
    "    cap.release()\n",
    "    \n",
    "    mean = tf.math.reduce_mean(frames)\n",
    "    std = tf.math.reduce_std(tf.cast(frames, tf.float32))\n",
    "    return tf.cast((frames - mean), tf.float32) / std"
   ]
  },
  {
   "cell_type": "code",
   "execution_count": 5,
   "id": "4c5553dd-7c2a-4c10-b67c-344092d55f78",
   "metadata": {},
   "outputs": [],
   "source": [
    "vocab = [x for x in \"abcdefghijklmnopqrstuvwxyz'?!123456789 \"]"
   ]
  },
  {
   "cell_type": "code",
   "execution_count": 6,
   "id": "bc955775-388e-449d-9b20-8fd82eca2305",
   "metadata": {},
   "outputs": [
    {
     "name": "stdout",
     "output_type": "stream",
     "text": [
      "The vocabulary is: ['', 'a', 'b', 'c', 'd', 'e', 'f', 'g', 'h', 'i', 'j', 'k', 'l', 'm', 'n', 'o', 'p', 'q', 'r', 's', 't', 'u', 'v', 'w', 'x', 'y', 'z', \"'\", '?', '!', '1', '2', '3', '4', '5', '6', '7', '8', '9', ' '] (size =40)\n"
     ]
    }
   ],
   "source": [
    "char_to_num = tf.keras.layers.StringLookup(vocabulary=vocab, oov_token=\"\")\n",
    "num_to_char = tf.keras.layers.StringLookup(\n",
    "    vocabulary=char_to_num.get_vocabulary(), oov_token=\"\", invert=True\n",
    ")\n",
    "\n",
    "print(\n",
    "    f\"The vocabulary is: {char_to_num.get_vocabulary()} \"\n",
    "    f\"(size ={char_to_num.vocabulary_size()})\"\n",
    ")"
   ]
  },
  {
   "cell_type": "code",
   "execution_count": 7,
   "id": "c8042135-43ab-4a02-adfa-3b7c9f73a771",
   "metadata": {},
   "outputs": [
    {
     "data": {
      "text/plain": [
       "['',\n",
       " 'a',\n",
       " 'b',\n",
       " 'c',\n",
       " 'd',\n",
       " 'e',\n",
       " 'f',\n",
       " 'g',\n",
       " 'h',\n",
       " 'i',\n",
       " 'j',\n",
       " 'k',\n",
       " 'l',\n",
       " 'm',\n",
       " 'n',\n",
       " 'o',\n",
       " 'p',\n",
       " 'q',\n",
       " 'r',\n",
       " 's',\n",
       " 't',\n",
       " 'u',\n",
       " 'v',\n",
       " 'w',\n",
       " 'x',\n",
       " 'y',\n",
       " 'z',\n",
       " \"'\",\n",
       " '?',\n",
       " '!',\n",
       " '1',\n",
       " '2',\n",
       " '3',\n",
       " '4',\n",
       " '5',\n",
       " '6',\n",
       " '7',\n",
       " '8',\n",
       " '9',\n",
       " ' ']"
      ]
     },
     "execution_count": 7,
     "metadata": {},
     "output_type": "execute_result"
    }
   ],
   "source": [
    "char_to_num.get_vocabulary()"
   ]
  },
  {
   "cell_type": "code",
   "execution_count": 8,
   "id": "e4bb59a6-d877-49e8-a458-c4f513469fa2",
   "metadata": {},
   "outputs": [
    {
     "data": {
      "text/plain": [
       "<tf.Tensor: shape=(4,), dtype=int64, numpy=array([14,  9,  3, 11], dtype=int64)>"
      ]
     },
     "execution_count": 8,
     "metadata": {},
     "output_type": "execute_result"
    }
   ],
   "source": [
    "char_to_num(['n','i','c','k'])"
   ]
  },
  {
   "cell_type": "code",
   "execution_count": 9,
   "id": "dcde9993-b484-4709-bdb9-ca13bdf05667",
   "metadata": {},
   "outputs": [
    {
     "data": {
      "text/plain": [
       "<tf.Tensor: shape=(4,), dtype=string, numpy=array([b'n', b'i', b'c', b'k'], dtype=object)>"
      ]
     },
     "execution_count": 9,
     "metadata": {},
     "output_type": "execute_result"
    }
   ],
   "source": [
    "num_to_char([14,  9,  3, 11])"
   ]
  },
  {
   "cell_type": "code",
   "execution_count": 10,
   "id": "c7034a23-8abe-4cbd-8862-0aaebb5b1dc2",
   "metadata": {},
   "outputs": [],
   "source": [
    "def load_alignments(path:str) -> List[str]: \n",
    "    with open(path, 'r') as f: \n",
    "        lines = f.readlines() \n",
    "    tokens = []\n",
    "    for line in lines:\n",
    "        line = line.split()\n",
    "        if line[2] != 'sil': \n",
    "            tokens = [*tokens,' ',line[2]]\n",
    "    return char_to_num(tf.reshape(tf.strings.unicode_split(tokens, input_encoding='UTF-8'), (-1)))[1:]"
   ]
  },
  {
   "cell_type": "code",
   "execution_count": 11,
   "id": "fab0e774-7fc4-4b3c-a47e-88e148ccfc79",
   "metadata": {},
   "outputs": [],
   "source": [
    "#import sys\n",
    "def load_data(path: str): \n",
    "    path = bytes.decode(path.numpy())\n",
    "    #file_name = path.split('/')[-1].split('.')[0]\n",
    "    # File name splitting for windows\n",
    "    file_name = path.split('\\\\')[-1].split('.')[0]\n",
    "    video_path = os.path.join('G:\\\\','8th sem','data','data','s1',f'{file_name}.mpg')\n",
    "    alignment_path = os.path.join('G:\\\\','8th sem','data','data','alignments','s1',f'{file_name}.align')\n",
    "    frames = load_video(video_path) \n",
    "   # print(sys.getsizeof(frames))\n",
    "    alignments = load_alignments(alignment_path)\n",
    "    \n",
    "    return frames, alignments"
   ]
  },
  {
   "cell_type": "code",
   "execution_count": 12,
   "id": "41695d18-6228-4acc-b63a-dee2f885c2f6",
   "metadata": {},
   "outputs": [],
   "source": [
    "test_path = 'G:\\\\8th sem\\\\data\\\\data\\\\s1\\\\bbal6n.mpg'"
   ]
  },
  {
   "cell_type": "code",
   "execution_count": 13,
   "id": "288a2d61-1592-4e10-952e-f90645a393da",
   "metadata": {},
   "outputs": [
    {
     "data": {
      "text/plain": [
       "'bbal6n'"
      ]
     },
     "execution_count": 13,
     "metadata": {},
     "output_type": "execute_result"
    }
   ],
   "source": [
    "tf.convert_to_tensor(test_path).numpy().decode('utf-8').split('\\\\')[-1].split('.')[0]"
   ]
  },
  {
   "cell_type": "code",
   "execution_count": 14,
   "id": "4978e8a2-98a5-42d2-9518-2de02e0466e3",
   "metadata": {},
   "outputs": [],
   "source": [
    "#import sys\n",
    "frames, alignments = load_data(tf.convert_to_tensor(test_path))\n",
    "#print(sys.getsizeof(frames[1]))"
   ]
  },
  {
   "cell_type": "code",
   "execution_count": 15,
   "id": "7b6cd31a-a168-4b1f-a037-4733aafa5495",
   "metadata": {},
   "outputs": [
    {
     "ename": "SyntaxError",
     "evalue": "invalid syntax (3257618131.py, line 3)",
     "output_type": "error",
     "traceback": [
      "\u001b[1;36m  Cell \u001b[1;32mIn[15], line 3\u001b[1;36m\u001b[0m\n\u001b[1;33m    plt.imshow(frames[40])\u001b[0m\n\u001b[1;37m    ^\u001b[0m\n\u001b[1;31mSyntaxError\u001b[0m\u001b[1;31m:\u001b[0m invalid syntax\n"
     ]
    }
   ],
   "source": [
    "plt.imshow(frames[40])\n"
   ]
  },
  {
   "cell_type": "code",
   "execution_count": 15,
   "id": "25820f6a-377f-41a9-aa28-ed084d33f516",
   "metadata": {},
   "outputs": [
    {
     "data": {
      "text/plain": [
       "<tf.Tensor: shape=(21,), dtype=int64, numpy=\n",
       "array([ 2,  9, 14, 39,  2, 12, 21,  5, 39,  1, 20, 39, 12, 39, 19,  9, 24,\n",
       "       39, 14, 15, 23], dtype=int64)>"
      ]
     },
     "execution_count": 15,
     "metadata": {},
     "output_type": "execute_result"
    }
   ],
   "source": [
    "alignments\n"
   ]
  },
  {
   "cell_type": "code",
   "execution_count": 16,
   "id": "f55e3a35-35af-417c-a128-7050399dc5c1",
   "metadata": {},
   "outputs": [
    {
     "data": {
      "text/plain": [
       "<tf.Tensor: shape=(), dtype=string, numpy=b'bin blue at l six now'>"
      ]
     },
     "execution_count": 16,
     "metadata": {},
     "output_type": "execute_result"
    }
   ],
   "source": [
    "tf.strings.reduce_join([bytes.decode(x) for x in num_to_char(alignments.numpy()).numpy()])"
   ]
  },
  {
   "cell_type": "code",
   "execution_count": 17,
   "id": "03e8e4de-7543-4fc4-91fa-2cf305543b8a",
   "metadata": {},
   "outputs": [],
   "source": [
    "def mappable_function(path:str) ->List[str]:\n",
    "    result = tf.py_function(load_data, [path], (tf.float32, tf.int64))\n",
    "    return result"
   ]
  },
  {
   "cell_type": "code",
   "execution_count": 18,
   "id": "ed7ac21f-b08e-4b78-bb22-aaa2a95e8cf1",
   "metadata": {},
   "outputs": [],
   "source": [
    "from matplotlib import pyplot as plt"
   ]
  },
  {
   "cell_type": "code",
   "execution_count": 19,
   "id": "91d1da97-8383-49a6-8c24-686ddd975df9",
   "metadata": {},
   "outputs": [],
   "source": [
    "data = tf.data.Dataset.list_files('G:/8th sem/data/data/s1/*.mpg')\n",
    "data = data.shuffle(500, reshuffle_each_iteration=False)\n",
    "data = data.map(mappable_function)\n",
    "data = data.padded_batch(2, padded_shapes=([75,None,None,None],[40]))\n",
    "data = data.prefetch(tf.data.AUTOTUNE)\n",
    "# Added for split \n",
    "train = data.take(450)\n",
    "test = data.skip(450)"
   ]
  },
  {
   "cell_type": "code",
   "execution_count": 20,
   "id": "68d187b5-8c9a-4b38-8ef5-67e350bd48ff",
   "metadata": {},
   "outputs": [
    {
     "data": {
      "text/plain": [
       "50"
      ]
     },
     "execution_count": 20,
     "metadata": {},
     "output_type": "execute_result"
    }
   ],
   "source": [
    "len(test)"
   ]
  },
  {
   "cell_type": "code",
   "execution_count": 21,
   "id": "cfea0033-7ac4-45c8-9e66-22ead7bf06bf",
   "metadata": {},
   "outputs": [],
   "source": [
    "frames, alignments = data.as_numpy_iterator().next()"
   ]
  },
  {
   "cell_type": "code",
   "execution_count": 22,
   "id": "b1b777b5-4829-4bf7-ae52-096aa6ff155a",
   "metadata": {},
   "outputs": [
    {
     "data": {
      "text/plain": [
       "2"
      ]
     },
     "execution_count": 22,
     "metadata": {},
     "output_type": "execute_result"
    }
   ],
   "source": [
    "len(frames)"
   ]
  },
  {
   "cell_type": "code",
   "execution_count": 23,
   "id": "e7f8a18d-0293-4714-a76d-28a98c4b10e9",
   "metadata": {},
   "outputs": [],
   "source": [
    "sample = data.as_numpy_iterator()"
   ]
  },
  {
   "cell_type": "code",
   "execution_count": 24,
   "id": "ab5b484b-02cf-4a55-a238-aae9085aee1a",
   "metadata": {},
   "outputs": [
    {
     "data": {
      "text/plain": [
       "array([[[[[1.5767121 ],\n",
       "          [1.5400444 ],\n",
       "          [1.4300413 ],\n",
       "          ...,\n",
       "          [0.33000952],\n",
       "          [0.2933418 ],\n",
       "          [0.2933418 ]],\n",
       "\n",
       "         [[1.6133798 ],\n",
       "          [1.5767121 ],\n",
       "          [1.3933735 ],\n",
       "          ...,\n",
       "          [0.33000952],\n",
       "          [0.2933418 ],\n",
       "          [0.2933418 ]],\n",
       "\n",
       "         [[1.4300413 ],\n",
       "          [1.4300413 ],\n",
       "          [1.3933735 ],\n",
       "          ...,\n",
       "          [0.40334496],\n",
       "          [0.36667725],\n",
       "          [0.36667725]],\n",
       "\n",
       "         ...,\n",
       "\n",
       "         [[1.063364  ],\n",
       "          [1.0266963 ],\n",
       "          [1.0266963 ],\n",
       "          ...,\n",
       "          [0.11000317],\n",
       "          [0.11000317],\n",
       "          [0.11000317]],\n",
       "\n",
       "         [[1.0266963 ],\n",
       "          [1.0266963 ],\n",
       "          [1.0266963 ],\n",
       "          ...,\n",
       "          [0.07333545],\n",
       "          [0.07333545],\n",
       "          [0.07333545]],\n",
       "\n",
       "         [[1.0266963 ],\n",
       "          [1.0266963 ],\n",
       "          [1.0266963 ],\n",
       "          ...,\n",
       "          [0.07333545],\n",
       "          [0.07333545],\n",
       "          [0.03666772]]],\n",
       "\n",
       "\n",
       "        [[[1.5767121 ],\n",
       "          [1.5033767 ],\n",
       "          [1.4300413 ],\n",
       "          ...,\n",
       "          [0.36667725],\n",
       "          [0.33000952],\n",
       "          [0.33000952]],\n",
       "\n",
       "         [[1.5767121 ],\n",
       "          [1.5033767 ],\n",
       "          [1.4300413 ],\n",
       "          ...,\n",
       "          [0.36667725],\n",
       "          [0.33000952],\n",
       "          [0.33000952]],\n",
       "\n",
       "         [[1.3933735 ],\n",
       "          [1.3933735 ],\n",
       "          [1.3200381 ],\n",
       "          ...,\n",
       "          [0.25667408],\n",
       "          [0.2933418 ],\n",
       "          [0.2933418 ]],\n",
       "\n",
       "         ...,\n",
       "\n",
       "         [[1.063364  ],\n",
       "          [1.0266963 ],\n",
       "          [1.0266963 ],\n",
       "          ...,\n",
       "          [0.07333545],\n",
       "          [0.07333545],\n",
       "          [0.07333545]],\n",
       "\n",
       "         [[1.0266963 ],\n",
       "          [1.0266963 ],\n",
       "          [1.0266963 ],\n",
       "          ...,\n",
       "          [0.07333545],\n",
       "          [0.07333545],\n",
       "          [0.07333545]],\n",
       "\n",
       "         [[1.0266963 ],\n",
       "          [1.0266963 ],\n",
       "          [1.0266963 ],\n",
       "          ...,\n",
       "          [0.07333545],\n",
       "          [0.07333545],\n",
       "          [0.03666772]]],\n",
       "\n",
       "\n",
       "        [[[1.5400444 ],\n",
       "          [1.5400444 ],\n",
       "          [1.4300413 ],\n",
       "          ...,\n",
       "          [0.36667725],\n",
       "          [0.36667725],\n",
       "          [0.36667725]],\n",
       "\n",
       "         [[1.466709  ],\n",
       "          [1.466709  ],\n",
       "          [1.4300413 ],\n",
       "          ...,\n",
       "          [0.36667725],\n",
       "          [0.36667725],\n",
       "          [0.36667725]],\n",
       "\n",
       "         [[1.466709  ],\n",
       "          [1.466709  ],\n",
       "          [1.3933735 ],\n",
       "          ...,\n",
       "          [0.2933418 ],\n",
       "          [0.36667725],\n",
       "          [0.40334496]],\n",
       "\n",
       "         ...,\n",
       "\n",
       "         [[1.1000317 ],\n",
       "          [1.063364  ],\n",
       "          [1.0266963 ],\n",
       "          ...,\n",
       "          [0.07333545],\n",
       "          [0.07333545],\n",
       "          [0.07333545]],\n",
       "\n",
       "         [[1.063364  ],\n",
       "          [1.0266963 ],\n",
       "          [1.0266963 ],\n",
       "          ...,\n",
       "          [0.07333545],\n",
       "          [0.07333545],\n",
       "          [0.07333545]],\n",
       "\n",
       "         [[1.063364  ],\n",
       "          [1.0266963 ],\n",
       "          [1.0266963 ],\n",
       "          ...,\n",
       "          [0.07333545],\n",
       "          [0.07333545],\n",
       "          [0.03666772]]],\n",
       "\n",
       "\n",
       "        ...,\n",
       "\n",
       "\n",
       "        [[[1.5033767 ],\n",
       "          [1.466709  ],\n",
       "          [1.3567058 ],\n",
       "          ...,\n",
       "          [0.33000952],\n",
       "          [0.33000952],\n",
       "          [0.33000952]],\n",
       "\n",
       "         [[1.5033767 ],\n",
       "          [1.3933735 ],\n",
       "          [1.2833704 ],\n",
       "          ...,\n",
       "          [0.33000952],\n",
       "          [0.33000952],\n",
       "          [0.33000952]],\n",
       "\n",
       "         [[1.4300413 ],\n",
       "          [1.4300413 ],\n",
       "          [1.4300413 ],\n",
       "          ...,\n",
       "          [0.25667408],\n",
       "          [0.25667408],\n",
       "          [0.25667408]],\n",
       "\n",
       "         ...,\n",
       "\n",
       "         [[1.0266963 ],\n",
       "          [1.0266963 ],\n",
       "          [1.0266963 ],\n",
       "          ...,\n",
       "          [0.11000317],\n",
       "          [0.11000317],\n",
       "          [0.07333545]],\n",
       "\n",
       "         [[1.0266963 ],\n",
       "          [1.0266963 ],\n",
       "          [1.0266963 ],\n",
       "          ...,\n",
       "          [0.11000317],\n",
       "          [0.07333545],\n",
       "          [0.07333545]],\n",
       "\n",
       "         [[1.0266963 ],\n",
       "          [1.0266963 ],\n",
       "          [1.0266963 ],\n",
       "          ...,\n",
       "          [0.07333545],\n",
       "          [0.07333545],\n",
       "          [0.03666772]]],\n",
       "\n",
       "\n",
       "        [[[1.5767121 ],\n",
       "          [1.466709  ],\n",
       "          [1.3933735 ],\n",
       "          ...,\n",
       "          [0.36667725],\n",
       "          [0.33000952],\n",
       "          [0.33000952]],\n",
       "\n",
       "         [[1.5033767 ],\n",
       "          [1.3200381 ],\n",
       "          [1.2833704 ],\n",
       "          ...,\n",
       "          [0.36667725],\n",
       "          [0.33000952],\n",
       "          [0.33000952]],\n",
       "\n",
       "         [[1.4300413 ],\n",
       "          [1.4300413 ],\n",
       "          [1.3933735 ],\n",
       "          ...,\n",
       "          [0.2933418 ],\n",
       "          [0.2933418 ],\n",
       "          [0.2933418 ]],\n",
       "\n",
       "         ...,\n",
       "\n",
       "         [[1.0266963 ],\n",
       "          [1.0266963 ],\n",
       "          [1.0266963 ],\n",
       "          ...,\n",
       "          [0.11000317],\n",
       "          [0.11000317],\n",
       "          [0.07333545]],\n",
       "\n",
       "         [[1.0266963 ],\n",
       "          [1.0266963 ],\n",
       "          [1.0266963 ],\n",
       "          ...,\n",
       "          [0.11000317],\n",
       "          [0.11000317],\n",
       "          [0.07333545]],\n",
       "\n",
       "         [[1.0266963 ],\n",
       "          [1.0266963 ],\n",
       "          [1.0266963 ],\n",
       "          ...,\n",
       "          [0.11000317],\n",
       "          [0.07333545],\n",
       "          [0.07333545]]],\n",
       "\n",
       "\n",
       "        [[[1.5400444 ],\n",
       "          [1.466709  ],\n",
       "          [1.3933735 ],\n",
       "          ...,\n",
       "          [0.2933418 ],\n",
       "          [0.33000952],\n",
       "          [0.33000952]],\n",
       "\n",
       "         [[1.466709  ],\n",
       "          [1.3200381 ],\n",
       "          [1.2833704 ],\n",
       "          ...,\n",
       "          [0.2933418 ],\n",
       "          [0.33000952],\n",
       "          [0.33000952]],\n",
       "\n",
       "         [[1.4300413 ],\n",
       "          [1.4300413 ],\n",
       "          [1.3933735 ],\n",
       "          ...,\n",
       "          [0.36667725],\n",
       "          [0.36667725],\n",
       "          [0.36667725]],\n",
       "\n",
       "         ...,\n",
       "\n",
       "         [[1.1366994 ],\n",
       "          [1.063364  ],\n",
       "          [1.063364  ],\n",
       "          ...,\n",
       "          [0.11000317],\n",
       "          [0.11000317],\n",
       "          [0.07333545]],\n",
       "\n",
       "         [[1.1000317 ],\n",
       "          [1.063364  ],\n",
       "          [1.063364  ],\n",
       "          ...,\n",
       "          [0.11000317],\n",
       "          [0.11000317],\n",
       "          [0.07333545]],\n",
       "\n",
       "         [[1.1000317 ],\n",
       "          [1.063364  ],\n",
       "          [1.063364  ],\n",
       "          ...,\n",
       "          [0.11000317],\n",
       "          [0.07333545],\n",
       "          [0.07333545]]]],\n",
       "\n",
       "\n",
       "\n",
       "       [[[[1.420292  ],\n",
       "          [1.420292  ],\n",
       "          [1.4586782 ],\n",
       "          ...,\n",
       "          [0.07677254],\n",
       "          [0.07677254],\n",
       "          [0.07677254]],\n",
       "\n",
       "         [[1.420292  ],\n",
       "          [1.420292  ],\n",
       "          [1.4586782 ],\n",
       "          ...,\n",
       "          [0.07677254],\n",
       "          [0.07677254],\n",
       "          [0.07677254]],\n",
       "\n",
       "         [[1.4586782 ],\n",
       "          [1.4586782 ],\n",
       "          [1.4586782 ],\n",
       "          ...,\n",
       "          [0.11515881],\n",
       "          [0.07677254],\n",
       "          [0.07677254]],\n",
       "\n",
       "         ...,\n",
       "\n",
       "         [[0.998043  ],\n",
       "          [0.998043  ],\n",
       "          [0.998043  ],\n",
       "          ...,\n",
       "          [9.6349535 ],\n",
       "          [9.6349535 ],\n",
       "          [9.6349535 ]],\n",
       "\n",
       "         [[0.9596567 ],\n",
       "          [0.9596567 ],\n",
       "          [0.9596567 ],\n",
       "          ...,\n",
       "          [9.6349535 ],\n",
       "          [9.6349535 ],\n",
       "          [9.6349535 ]],\n",
       "\n",
       "         [[0.9596567 ],\n",
       "          [0.9596567 ],\n",
       "          [0.9596567 ],\n",
       "          ...,\n",
       "          [9.6349535 ],\n",
       "          [9.6349535 ],\n",
       "          [9.6349535 ]]],\n",
       "\n",
       "\n",
       "        [[[1.3435194 ],\n",
       "          [1.3435194 ],\n",
       "          [1.3819057 ],\n",
       "          ...,\n",
       "          [0.11515881],\n",
       "          [0.03838627],\n",
       "          [0.03838627]],\n",
       "\n",
       "         [[1.3435194 ],\n",
       "          [1.3435194 ],\n",
       "          [1.3819057 ],\n",
       "          ...,\n",
       "          [0.11515881],\n",
       "          [0.03838627],\n",
       "          [0.03838627]],\n",
       "\n",
       "         [[1.4586782 ],\n",
       "          [1.4586782 ],\n",
       "          [1.4586782 ],\n",
       "          ...,\n",
       "          [0.03838627],\n",
       "          [0.07677254],\n",
       "          [0.07677254]],\n",
       "\n",
       "         ...,\n",
       "\n",
       "         [[1.0364293 ],\n",
       "          [1.0364293 ],\n",
       "          [0.998043  ],\n",
       "          ...,\n",
       "          [9.6349535 ],\n",
       "          [9.6349535 ],\n",
       "          [9.6349535 ]],\n",
       "\n",
       "         [[0.998043  ],\n",
       "          [0.998043  ],\n",
       "          [0.9596567 ],\n",
       "          ...,\n",
       "          [9.6349535 ],\n",
       "          [9.6349535 ],\n",
       "          [9.6349535 ]],\n",
       "\n",
       "         [[0.998043  ],\n",
       "          [0.998043  ],\n",
       "          [0.9596567 ],\n",
       "          ...,\n",
       "          [9.6349535 ],\n",
       "          [9.6349535 ],\n",
       "          [9.6349535 ]]],\n",
       "\n",
       "\n",
       "        [[[1.3435194 ],\n",
       "          [1.3435194 ],\n",
       "          [1.3819057 ],\n",
       "          ...,\n",
       "          [0.07677254],\n",
       "          [0.03838627],\n",
       "          [0.03838627]],\n",
       "\n",
       "         [[1.3435194 ],\n",
       "          [1.3435194 ],\n",
       "          [1.3819057 ],\n",
       "          ...,\n",
       "          [0.07677254],\n",
       "          [0.03838627],\n",
       "          [0.03838627]],\n",
       "\n",
       "         [[1.4970645 ],\n",
       "          [1.4970645 ],\n",
       "          [1.4970645 ],\n",
       "          ...,\n",
       "          [0.03838627],\n",
       "          [0.07677254],\n",
       "          [0.07677254]],\n",
       "\n",
       "         ...,\n",
       "\n",
       "         [[1.0364293 ],\n",
       "          [1.0364293 ],\n",
       "          [0.998043  ],\n",
       "          ...,\n",
       "          [9.67334   ],\n",
       "          [9.67334   ],\n",
       "          [9.67334   ]],\n",
       "\n",
       "         [[0.998043  ],\n",
       "          [0.998043  ],\n",
       "          [0.9596567 ],\n",
       "          ...,\n",
       "          [9.67334   ],\n",
       "          [9.67334   ],\n",
       "          [9.67334   ]],\n",
       "\n",
       "         [[0.998043  ],\n",
       "          [0.998043  ],\n",
       "          [0.9596567 ],\n",
       "          ...,\n",
       "          [9.67334   ],\n",
       "          [9.67334   ],\n",
       "          [9.67334   ]]],\n",
       "\n",
       "\n",
       "        ...,\n",
       "\n",
       "\n",
       "        [[[1.4586782 ],\n",
       "          [1.4586782 ],\n",
       "          [1.4970645 ],\n",
       "          ...,\n",
       "          [0.11515881],\n",
       "          [0.07677254],\n",
       "          [0.07677254]],\n",
       "\n",
       "         [[1.4586782 ],\n",
       "          [1.4586782 ],\n",
       "          [1.4970645 ],\n",
       "          ...,\n",
       "          [0.11515881],\n",
       "          [0.07677254],\n",
       "          [0.07677254]],\n",
       "\n",
       "         [[1.3819057 ],\n",
       "          [1.3819057 ],\n",
       "          [1.3819057 ],\n",
       "          ...,\n",
       "          [0.07677254],\n",
       "          [0.07677254],\n",
       "          [0.07677254]],\n",
       "\n",
       "         ...,\n",
       "\n",
       "         [[0.998043  ],\n",
       "          [0.998043  ],\n",
       "          [0.998043  ],\n",
       "          ...,\n",
       "          [9.6349535 ],\n",
       "          [9.6349535 ],\n",
       "          [9.6349535 ]],\n",
       "\n",
       "         [[0.998043  ],\n",
       "          [0.998043  ],\n",
       "          [0.998043  ],\n",
       "          ...,\n",
       "          [9.6349535 ],\n",
       "          [9.6349535 ],\n",
       "          [9.596567  ]],\n",
       "\n",
       "         [[0.998043  ],\n",
       "          [0.998043  ],\n",
       "          [0.9596567 ],\n",
       "          ...,\n",
       "          [9.6349535 ],\n",
       "          [9.596567  ],\n",
       "          [9.596567  ]]],\n",
       "\n",
       "\n",
       "        [[[1.4970645 ],\n",
       "          [1.4970645 ],\n",
       "          [1.4586782 ],\n",
       "          ...,\n",
       "          [0.11515881],\n",
       "          [0.07677254],\n",
       "          [0.07677254]],\n",
       "\n",
       "         [[1.4970645 ],\n",
       "          [1.4970645 ],\n",
       "          [1.4970645 ],\n",
       "          ...,\n",
       "          [0.11515881],\n",
       "          [0.07677254],\n",
       "          [0.07677254]],\n",
       "\n",
       "         [[1.3819057 ],\n",
       "          [1.3819057 ],\n",
       "          [1.3819057 ],\n",
       "          ...,\n",
       "          [0.07677254],\n",
       "          [0.07677254],\n",
       "          [0.07677254]],\n",
       "\n",
       "         ...,\n",
       "\n",
       "         [[0.998043  ],\n",
       "          [0.998043  ],\n",
       "          [0.998043  ],\n",
       "          ...,\n",
       "          [9.6349535 ],\n",
       "          [9.6349535 ],\n",
       "          [9.596567  ]],\n",
       "\n",
       "         [[0.998043  ],\n",
       "          [0.998043  ],\n",
       "          [0.998043  ],\n",
       "          ...,\n",
       "          [9.6349535 ],\n",
       "          [9.596567  ],\n",
       "          [9.596567  ]],\n",
       "\n",
       "         [[0.998043  ],\n",
       "          [0.998043  ],\n",
       "          [0.9596567 ],\n",
       "          ...,\n",
       "          [9.596567  ],\n",
       "          [9.596567  ],\n",
       "          [9.596567  ]]],\n",
       "\n",
       "\n",
       "        [[[1.4970645 ],\n",
       "          [1.4970645 ],\n",
       "          [1.4970645 ],\n",
       "          ...,\n",
       "          [0.11515881],\n",
       "          [0.07677254],\n",
       "          [0.07677254]],\n",
       "\n",
       "         [[1.4970645 ],\n",
       "          [1.4970645 ],\n",
       "          [1.5354508 ],\n",
       "          ...,\n",
       "          [0.11515881],\n",
       "          [0.07677254],\n",
       "          [0.07677254]],\n",
       "\n",
       "         [[1.420292  ],\n",
       "          [1.420292  ],\n",
       "          [1.420292  ],\n",
       "          ...,\n",
       "          [0.07677254],\n",
       "          [0.07677254],\n",
       "          [0.07677254]],\n",
       "\n",
       "         ...,\n",
       "\n",
       "         [[0.9596567 ],\n",
       "          [0.9596567 ],\n",
       "          [0.9596567 ],\n",
       "          ...,\n",
       "          [9.67334   ],\n",
       "          [9.6349535 ],\n",
       "          [9.6349535 ]],\n",
       "\n",
       "         [[0.9596567 ],\n",
       "          [0.9596567 ],\n",
       "          [0.9596567 ],\n",
       "          ...,\n",
       "          [9.6349535 ],\n",
       "          [9.6349535 ],\n",
       "          [9.596567  ]],\n",
       "\n",
       "         [[0.9596567 ],\n",
       "          [0.9596567 ],\n",
       "          [0.9212705 ],\n",
       "          ...,\n",
       "          [9.6349535 ],\n",
       "          [9.596567  ],\n",
       "          [9.596567  ]]]]], dtype=float32)"
      ]
     },
     "execution_count": 24,
     "metadata": {},
     "output_type": "execute_result"
    }
   ],
   "source": [
    "val = sample.next(); val[0]"
   ]
  },
  {
   "cell_type": "code",
   "execution_count": 25,
   "id": "ba4ac2a5-3103-44b2-ad02-ca4b2e463fcd",
   "metadata": {},
   "outputs": [
    {
     "data": {
      "text/plain": [
       "<tf.Tensor: shape=(), dtype=string, numpy=b'set red with v two please'>"
      ]
     },
     "execution_count": 25,
     "metadata": {},
     "output_type": "execute_result"
    }
   ],
   "source": [
    "tf.strings.reduce_join([num_to_char(word) for word in val[1][0]])"
   ]
  },
  {
   "cell_type": "code",
   "execution_count": 26,
   "id": "daf22e63-3269-40cf-be57-4da9c57f0018",
   "metadata": {},
   "outputs": [],
   "source": [
    "from tensorflow.keras.models import Sequential \n",
    "from tensorflow.keras.layers import Conv3D, LSTM, Dense, Dropout, Bidirectional, MaxPool3D, Activation, Reshape, SpatialDropout3D, BatchNormalization, TimeDistributed, Flatten\n",
    "from tensorflow.keras.optimizers import Adam\n",
    "from tensorflow.keras.callbacks import ModelCheckpoint, LearningRateScheduler"
   ]
  },
  {
   "cell_type": "code",
   "execution_count": 27,
   "id": "5d161350-20c9-493b-b5ac-042f46772345",
   "metadata": {},
   "outputs": [
    {
     "data": {
      "text/plain": [
       "(75, 46, 140, 1)"
      ]
     },
     "execution_count": 27,
     "metadata": {},
     "output_type": "execute_result"
    }
   ],
   "source": [
    "data.as_numpy_iterator().next()[0][0].shape"
   ]
  },
  {
   "cell_type": "code",
   "execution_count": 28,
   "id": "a2e05bb9-39cb-49e0-8522-8f4b08ffd5b8",
   "metadata": {},
   "outputs": [],
   "source": [
    "model = Sequential()\n",
    "model.add(Conv3D(128, 3, input_shape=(75,46,140,1), padding='same'))\n",
    "model.add(Activation('relu'))\n",
    "model.add(MaxPool3D((1,2,2)))\n",
    "\n",
    "model.add(Conv3D(256, 3, padding='same'))\n",
    "model.add(Activation('relu'))\n",
    "model.add(MaxPool3D((1,2,2)))\n",
    "\n",
    "model.add(Conv3D(75, 3, padding='same'))\n",
    "model.add(Activation('relu'))\n",
    "model.add(MaxPool3D((1,2,2)))\n",
    "\n",
    "model.add(TimeDistributed(Flatten()))\n",
    "\n",
    "model.add(Bidirectional(LSTM(128, kernel_initializer='Orthogonal', return_sequences=True)))\n",
    "model.add(Dropout(.5))\n",
    "\n",
    "model.add(Bidirectional(LSTM(128, kernel_initializer='Orthogonal', return_sequences=True)))\n",
    "model.add(Dropout(.5))\n",
    "\n",
    "model.add(Dense(char_to_num.vocabulary_size()+1, kernel_initializer='he_normal', activation='softmax'))"
   ]
  },
  {
   "cell_type": "code",
   "execution_count": 29,
   "id": "5f885535-3023-4aa5-aa8b-0aead6b573ef",
   "metadata": {},
   "outputs": [
    {
     "name": "stdout",
     "output_type": "stream",
     "text": [
      "Model: \"sequential\"\n",
      "_________________________________________________________________\n",
      " Layer (type)                Output Shape              Param #   \n",
      "=================================================================\n",
      " conv3d (Conv3D)             (None, 75, 46, 140, 128)  3584      \n",
      "                                                                 \n",
      " activation (Activation)     (None, 75, 46, 140, 128)  0         \n",
      "                                                                 \n",
      " max_pooling3d (MaxPooling3D  (None, 75, 23, 70, 128)  0         \n",
      " )                                                               \n",
      "                                                                 \n",
      " conv3d_1 (Conv3D)           (None, 75, 23, 70, 256)   884992    \n",
      "                                                                 \n",
      " activation_1 (Activation)   (None, 75, 23, 70, 256)   0         \n",
      "                                                                 \n",
      " max_pooling3d_1 (MaxPooling  (None, 75, 11, 35, 256)  0         \n",
      " 3D)                                                             \n",
      "                                                                 \n",
      " conv3d_2 (Conv3D)           (None, 75, 11, 35, 75)    518475    \n",
      "                                                                 \n",
      " activation_2 (Activation)   (None, 75, 11, 35, 75)    0         \n",
      "                                                                 \n",
      " max_pooling3d_2 (MaxPooling  (None, 75, 5, 17, 75)    0         \n",
      " 3D)                                                             \n",
      "                                                                 \n",
      " time_distributed (TimeDistr  (None, 75, 6375)         0         \n",
      " ibuted)                                                         \n",
      "                                                                 \n",
      " bidirectional (Bidirectiona  (None, 75, 256)          6660096   \n",
      " l)                                                              \n",
      "                                                                 \n",
      " dropout (Dropout)           (None, 75, 256)           0         \n",
      "                                                                 \n",
      " bidirectional_1 (Bidirectio  (None, 75, 256)          394240    \n",
      " nal)                                                            \n",
      "                                                                 \n",
      " dropout_1 (Dropout)         (None, 75, 256)           0         \n",
      "                                                                 \n",
      " dense (Dense)               (None, 75, 41)            10537     \n",
      "                                                                 \n",
      "=================================================================\n",
      "Total params: 8,471,924\n",
      "Trainable params: 8,471,924\n",
      "Non-trainable params: 0\n",
      "_________________________________________________________________\n"
     ]
    }
   ],
   "source": [
    "model.summary()"
   ]
  },
  {
   "cell_type": "code",
   "execution_count": 30,
   "id": "f1431422-8250-4b54-8994-5fc8a73e6ba2",
   "metadata": {},
   "outputs": [
    {
     "data": {
      "text/plain": [
       "6375"
      ]
     },
     "execution_count": 30,
     "metadata": {},
     "output_type": "execute_result"
    }
   ],
   "source": [
    "5*17*75"
   ]
  },
  {
   "cell_type": "code",
   "execution_count": 31,
   "id": "6ef723c2-26c4-4098-a491-6ce1a95525ad",
   "metadata": {},
   "outputs": [
    {
     "name": "stdout",
     "output_type": "stream",
     "text": [
      "1/1 [==============================] - 6s 6s/step\n"
     ]
    }
   ],
   "source": [
    "yhat = model.predict(val[0])"
   ]
  },
  {
   "cell_type": "code",
   "execution_count": 32,
   "id": "e7c92583-04ff-4b7a-81ae-1d2dfeca1f8a",
   "metadata": {},
   "outputs": [
    {
     "data": {
      "text/plain": [
       "<tf.Tensor: shape=(), dtype=string, numpy=b'333338888888888888888888888888888888888888888888888888888888888888888888888'>"
      ]
     },
     "execution_count": 32,
     "metadata": {},
     "output_type": "execute_result"
    }
   ],
   "source": [
    "tf.strings.reduce_join([num_to_char(x) for x in tf.argmax(yhat[0],axis=1)])"
   ]
  },
  {
   "cell_type": "code",
   "execution_count": 33,
   "id": "7074c4fe-66d0-4ecb-a833-40251408c28d",
   "metadata": {},
   "outputs": [
    {
     "data": {
      "text/plain": [
       "(None, 75, 46, 140, 1)"
      ]
     },
     "execution_count": 33,
     "metadata": {},
     "output_type": "execute_result"
    }
   ],
   "source": [
    "model.input_shape"
   ]
  },
  {
   "cell_type": "code",
   "execution_count": 34,
   "id": "678508df-3984-4719-a12c-eafe531fd83f",
   "metadata": {},
   "outputs": [
    {
     "data": {
      "text/plain": [
       "(None, 75, 41)"
      ]
     },
     "execution_count": 34,
     "metadata": {},
     "output_type": "execute_result"
    }
   ],
   "source": [
    "model.output_shape"
   ]
  },
  {
   "cell_type": "code",
   "execution_count": 35,
   "id": "438baac9-a4f3-400c-94cf-f1c2a5f984f7",
   "metadata": {},
   "outputs": [
    {
     "data": {
      "text/plain": [
       "<tensorflow.python.checkpoint.checkpoint.CheckpointLoadStatus at 0x15501557430>"
      ]
     },
     "execution_count": 35,
     "metadata": {},
     "output_type": "execute_result"
    }
   ],
   "source": [
    "model.load_weights('G:/8th sem/model/checkpoint')"
   ]
  },
  {
   "cell_type": "code",
   "execution_count": 36,
   "id": "b615b465-1758-4561-8413-0ec118356523",
   "metadata": {},
   "outputs": [],
   "source": [
    "test_data = test.as_numpy_iterator()"
   ]
  },
  {
   "cell_type": "code",
   "execution_count": 37,
   "id": "a980805e-5ec7-4848-a0da-32c3f304b995",
   "metadata": {},
   "outputs": [],
   "source": [
    "sample = test_data.next()"
   ]
  },
  {
   "cell_type": "code",
   "execution_count": 38,
   "id": "8765b2c2-59df-4100-aba8-674db171a22a",
   "metadata": {},
   "outputs": [
    {
     "name": "stdout",
     "output_type": "stream",
     "text": [
      "1/1 [==============================] - 3s 3s/step\n"
     ]
    }
   ],
   "source": [
    "yhat = model.predict(sample[0])"
   ]
  },
  {
   "cell_type": "code",
   "execution_count": 52,
   "id": "74b49ee6-1091-42dc-aaab-1d500364ddec",
   "metadata": {},
   "outputs": [
    {
     "name": "stdout",
     "output_type": "stream",
     "text": [
      "~~~~~~~~~~~~~~~~~~~~~~~~~~~~~~~~~~~~~~~~~~~~~~~~~~~~~~~~~~~~~~~~~~~~~~~~~~~~~~~~~~~~~~~~~~~~~~~~~~~~ REAL TEXT\n"
     ]
    },
    {
     "data": {
      "text/plain": [
       "[<tf.Tensor: shape=(), dtype=string, numpy=b'place red in i seven soon'>,\n",
       " <tf.Tensor: shape=(), dtype=string, numpy=b'lay white sp in e four now'>]"
      ]
     },
     "execution_count": 52,
     "metadata": {},
     "output_type": "execute_result"
    }
   ],
   "source": [
    "print('~'*100, 'REAL TEXT')\n",
    "[tf.strings.reduce_join([num_to_char(word) for word in sentence]) for sentence in sample[1]]"
   ]
  },
  {
   "cell_type": "code",
   "execution_count": 53,
   "id": "e46712d9-ec84-4689-bcab-4fc08764119d",
   "metadata": {},
   "outputs": [],
   "source": [
    "decoded = tf.keras.backend.ctc_decode(yhat, input_length=[75,75], greedy=True)[0][0].numpy()"
   ]
  },
  {
   "cell_type": "code",
   "execution_count": 54,
   "id": "862c28ab-aa40-48e5-8759-079675b79567",
   "metadata": {},
   "outputs": [
    {
     "name": "stdout",
     "output_type": "stream",
     "text": [
      "~~~~~~~~~~~~~~~~~~~~~~~~~~~~~~~~~~~~~~~~~~~~~~~~~~~~~~~~~~~~~~~~~~~~~~~~~~~~~~~~~~~~~~~~~~~~~~~~~~~~ PREDICTIONS\n"
     ]
    },
    {
     "data": {
      "text/plain": [
       "[<tf.Tensor: shape=(), dtype=string, numpy=b'place red in i seven soon'>,\n",
       " <tf.Tensor: shape=(), dtype=string, numpy=b'lay white sp in four now'>]"
      ]
     },
     "execution_count": 54,
     "metadata": {},
     "output_type": "execute_result"
    }
   ],
   "source": [
    "print('~'*100, 'PREDICTIONS')\n",
    "[tf.strings.reduce_join([num_to_char(word) for word in sentence]) for sentence in decoded]"
   ]
  },
  {
   "cell_type": "code",
   "execution_count": 61,
   "id": "0054ae97-a8b0-4ce4-8f10-7befb0011947",
   "metadata": {},
   "outputs": [],
   "source": [
    "#import sys\n",
    "sample = load_data(tf.convert_to_tensor('G:\\\\8th sem\\\\data\\\\data\\\\s1\\\\bgwo3s.mpg'))\n",
    "#sys.getsizeof(sample)"
   ]
  },
  {
   "cell_type": "code",
   "execution_count": 62,
   "id": "1ed1b48a-ea07-4e5d-a720-12ace697611c",
   "metadata": {},
   "outputs": [
    {
     "name": "stdout",
     "output_type": "stream",
     "text": [
      "~~~~~~~~~~~~~~~~~~~~~~~~~~~~~~~~~~~~~~~~~~~~~~~~~~~~~~~~~~~~~~~~~~~~~~~~~~~~~~~~~~~~~~~~~~~~~~~~~~~~ REAL TEXT\n"
     ]
    },
    {
     "data": {
      "text/plain": [
       "[<tf.Tensor: shape=(), dtype=string, numpy=b'bin green with o three soon'>]"
      ]
     },
     "execution_count": 62,
     "metadata": {},
     "output_type": "execute_result"
    }
   ],
   "source": [
    "print('~'*100, 'REAL TEXT')\n",
    "[tf.strings.reduce_join([num_to_char(word) for word in sentence]) for sentence in [sample[1]]]"
   ]
  },
  {
   "cell_type": "code",
   "execution_count": 63,
   "id": "31362df0-d48c-47a3-ba00-6dfa9c2cc1d4",
   "metadata": {},
   "outputs": [
    {
     "name": "stdout",
     "output_type": "stream",
     "text": [
      "1/1 [==============================] - 2s 2s/step\n"
     ]
    }
   ],
   "source": [
    "yhat = model.predict(tf.expand_dims(sample[0], axis=0))"
   ]
  },
  {
   "cell_type": "code",
   "execution_count": 64,
   "id": "3a08a9c2-46fc-41b8-a398-058fdcae5e82",
   "metadata": {},
   "outputs": [],
   "source": [
    "decoded = tf.keras.backend.ctc_decode(yhat, input_length=[75], greedy=True)[0][0].numpy()"
   ]
  },
  {
   "cell_type": "code",
   "execution_count": 65,
   "id": "c109b8a0-9fe8-4cca-b2dd-89311c7ae968",
   "metadata": {},
   "outputs": [
    {
     "name": "stdout",
     "output_type": "stream",
     "text": [
      "~~~~~~~~~~~~~~~~~~~~~~~~~~~~~~~~~~~~~~~~~~~~~~~~~~~~~~~~~~~~~~~~~~~~~~~~~~~~~~~~~~~~~~~~~~~~~~~~~~~~ PREDICTIONS\n"
     ]
    },
    {
     "data": {
      "text/plain": [
       "[<tf.Tensor: shape=(), dtype=string, numpy=b'bin green with o three soon'>]"
      ]
     },
     "execution_count": 65,
     "metadata": {},
     "output_type": "execute_result"
    }
   ],
   "source": [
    "print('~'*100, 'PREDICTIONS')\n",
    "[tf.strings.reduce_join([num_to_char(word) for word in sentence]) for sentence in decoded]"
   ]
  },
  {
   "cell_type": "code",
   "execution_count": null,
   "id": "6865e528-708e-440c-9fba-d5a774c4da16",
   "metadata": {},
   "outputs": [],
   "source": []
  }
 ],
 "metadata": {
  "kernelspec": {
   "display_name": "Python 3 (ipykernel)",
   "language": "python",
   "name": "python3"
  },
  "language_info": {
   "codemirror_mode": {
    "name": "ipython",
    "version": 3
   },
   "file_extension": ".py",
   "mimetype": "text/x-python",
   "name": "python",
   "nbconvert_exporter": "python",
   "pygments_lexer": "ipython3",
   "version": "3.10.13"
  }
 },
 "nbformat": 4,
 "nbformat_minor": 5
}
